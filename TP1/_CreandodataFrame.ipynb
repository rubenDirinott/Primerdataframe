{
  "nbformat": 4,
  "nbformat_minor": 0,
  "metadata": {
    "colab": {
      "provenance": [],
      "mount_file_id": "1d8Xt4Nd5iMxMTEVuf_bjMrkJBHvUfhhC",
      "authorship_tag": "ABX9TyNC4gVrrJaVsWjWcU5bRMoX",
      "include_colab_link": true
    },
    "kernelspec": {
      "name": "python3",
      "display_name": "Python 3"
    },
    "language_info": {
      "name": "python"
    }
  },
  "cells": [
    {
      "cell_type": "markdown",
      "metadata": {
        "id": "view-in-github",
        "colab_type": "text"
      },
      "source": [
        "<a href=\"https://colab.research.google.com/github/rubenDirinott/Primerdataframe/blob/main/TP1/_CreandodataFrame.ipynb\" target=\"_parent\"><img src=\"https://colab.research.google.com/assets/colab-badge.svg\" alt=\"Open In Colab\"/></a>"
      ]
    },
    {
      "cell_type": "code",
      "source": [
        "#creacion de dataframe\n",
        "import pandas as pd\n",
        " #crear dato\n",
        "df1=pd.DataFrame({'idn1':[1,2,3],\n",
        "                      'nombre':['ana','juan','maria']})\n",
        "df2=pd.DataFrame({'idn2':[1,2,3],\n",
        "                       'edad':[23,34,29]})"
      ],
      "metadata": {
        "id": "DPhBC9JNB1aN"
      },
      "execution_count": null,
      "outputs": []
    },
    {
      "cell_type": "code",
      "source": [
        "print(df1)"
      ],
      "metadata": {
        "colab": {
          "base_uri": "https://localhost:8080/"
        },
        "id": "Bt2oidREC5oW",
        "outputId": "2b761b73-4527-49b1-8a8c-6659a2ebe1b0"
      },
      "execution_count": null,
      "outputs": [
        {
          "output_type": "stream",
          "name": "stdout",
          "text": [
            "   idn1 nombre\n",
            "0     1    ana\n",
            "1     2   juan\n",
            "2     3  maria\n"
          ]
        }
      ]
    },
    {
      "cell_type": "code",
      "source": [
        "print(df2)"
      ],
      "metadata": {
        "colab": {
          "base_uri": "https://localhost:8080/"
        },
        "id": "fPYbevnzDZZH",
        "outputId": "d40e74d9-88cb-49a4-a984-55e7b688c47c"
      },
      "execution_count": null,
      "outputs": [
        {
          "output_type": "stream",
          "name": "stdout",
          "text": [
            "   idn2  edad\n",
            "0     1    23\n",
            "1     2    34\n",
            "2     3    29\n"
          ]
        }
      ]
    },
    {
      "cell_type": "markdown",
      "source": [
        "# Merge"
      ],
      "metadata": {
        "id": "isMgVeW7Dlff"
      }
    },
    {
      "cell_type": "code",
      "source": [
        "df_merged=pd.merge(df1,df2,left_on='idn1',right_on='idn2')\n",
        "print(df_merge)\n"
      ],
      "metadata": {
        "colab": {
          "base_uri": "https://localhost:8080/"
        },
        "id": "i4FLa9nwDnj2",
        "outputId": "9379654e-b0c8-4753-8a4e-005b83ac8a65"
      },
      "execution_count": null,
      "outputs": [
        {
          "output_type": "stream",
          "name": "stdout",
          "text": [
            "   idn1 nombre  idn2  edad\n",
            "0     1    ana     1    23\n",
            "1     2   juan     2    34\n",
            "2     3  maria     3    29\n"
          ]
        }
      ]
    },
    {
      "cell_type": "code",
      "source": [
        "print(df_merged)"
      ],
      "metadata": {
        "colab": {
          "base_uri": "https://localhost:8080/"
        },
        "id": "tRJ76tn7D1Qh",
        "outputId": "d1c5b04e-aba7-4b9c-e62d-a062bed3c1c7"
      },
      "execution_count": null,
      "outputs": [
        {
          "output_type": "stream",
          "name": "stdout",
          "text": [
            "   idn1 nombre  idn2  edad\n",
            "0     1    ana     1    23\n",
            "1     2   juan     2    34\n",
            "2     3  maria     3    29\n"
          ]
        }
      ]
    },
    {
      "cell_type": "code",
      "source": [
        "#Concat\n",
        "#Crear dataframe   ejemplo\n",
        "df3=pd.DataFrame({'nombre':['laura','pedro'],\n",
        "                  'edad':[30,45]})"
      ],
      "metadata": {
        "id": "tT_NHH9vEFs4"
      },
      "execution_count": null,
      "outputs": []
    },
    {
      "cell_type": "code",
      "source": [
        "print(df3)"
      ],
      "metadata": {
        "colab": {
          "base_uri": "https://localhost:8080/"
        },
        "id": "n6KDhVbuFglP",
        "outputId": "da7554fd-110f-4426-8f16-fedf9313f630"
      },
      "execution_count": null,
      "outputs": [
        {
          "output_type": "stream",
          "name": "stdout",
          "text": [
            "  nombre  edad\n",
            "0  laura    30\n",
            "1  pedro    45\n"
          ]
        }
      ]
    },
    {
      "cell_type": "markdown",
      "source": [
        "Concatenar Dataframe Verticalmente   AXis\n",
        "\n",
        "\n",
        "```\n",
        "\n"
      ],
      "metadata": {
        "id": "4kooiwb_GY0H"
      }
    },
    {
      "cell_type": "markdown",
      "source": [],
      "metadata": {
        "id": "bKSsLaBDGOun"
      }
    },
    {
      "cell_type": "code",
      "source": [
        "df_conct=pd.concat([df_merged,df3],axis=0, ignore_index=True )"
      ],
      "metadata": {
        "id": "9_DZW_knFnL-"
      },
      "execution_count": null,
      "outputs": []
    },
    {
      "cell_type": "code",
      "source": [
        "print (df_conct)"
      ],
      "metadata": {
        "colab": {
          "base_uri": "https://localhost:8080/"
        },
        "id": "qmukYxSTHEKP",
        "outputId": "c0105a8e-2e65-43b4-ce5a-5cf4fc4dede1"
      },
      "execution_count": null,
      "outputs": [
        {
          "output_type": "stream",
          "name": "stdout",
          "text": [
            "   idn1 nombre  idn2  edad\n",
            "0   1.0    ana   1.0    23\n",
            "1   2.0   juan   2.0    34\n",
            "2   3.0  maria   3.0    29\n",
            "3   NaN  laura   NaN    30\n",
            "4   NaN  pedro   NaN    45\n"
          ]
        }
      ]
    },
    {
      "cell_type": "markdown",
      "source": [
        "# Combianmos  datos de fentes difrentes"
      ],
      "metadata": {
        "id": "11_TBevoHUoO"
      }
    },
    {
      "cell_type": "code",
      "source": [
        "#Data Frame  ejemplo\n",
        "\n",
        "empleados=pd.DataFrame({'id':[1,2,3], 'Nombre':['ana','juan','finanza']})\n",
        "departamentos=pd.DataFrame({'id':[1,2,3],'departamento':['ventas','marketing','finanza']})"
      ],
      "metadata": {
        "id": "FjEaHXvTHczn"
      },
      "execution_count": null,
      "outputs": []
    },
    {
      "cell_type": "code",
      "source": [
        "print(empleados)\n",
        "print(departamentos)"
      ],
      "metadata": {
        "colab": {
          "base_uri": "https://localhost:8080/"
        },
        "id": "As4TdRjHIqSj",
        "outputId": "98402da1-3cf6-4f82-c124-de4cc8320883"
      },
      "execution_count": null,
      "outputs": [
        {
          "output_type": "stream",
          "name": "stdout",
          "text": [
            "   id   Nombre\n",
            "0   1      ana\n",
            "1   2     juan\n",
            "2   3  finanza\n",
            "   id departamento\n",
            "0   1       ventas\n",
            "1   2    marketing\n",
            "2   3      finanza\n"
          ]
        }
      ]
    },
    {
      "cell_type": "markdown",
      "source": [
        "## Funcion del data Frame  por id"
      ],
      "metadata": {
        "id": "s1KhOGIjJHkG"
      }
    },
    {
      "cell_type": "code",
      "source": [
        "empleados_dpt=pd.merge(empleados,departamentos,on='id')"
      ],
      "metadata": {
        "id": "5trVoZkMJOtY"
      },
      "execution_count": null,
      "outputs": []
    },
    {
      "cell_type": "markdown",
      "source": [
        "Visulizamo data frame Resultante"
      ],
      "metadata": {
        "id": "tPnP-aH7JoBH"
      }
    },
    {
      "cell_type": "code",
      "source": [
        "print(empleados_dpt)"
      ],
      "metadata": {
        "colab": {
          "base_uri": "https://localhost:8080/"
        },
        "id": "5lkY4DxGJr9h",
        "outputId": "38fade3b-884c-4082-b423-1c61c57abf46"
      },
      "execution_count": null,
      "outputs": [
        {
          "output_type": "stream",
          "name": "stdout",
          "text": [
            "   id   Nombre departamento\n",
            "0   1      ana       ventas\n",
            "1   2     juan    marketing\n",
            "2   3  finanza      finanza\n"
          ]
        }
      ]
    }
  ]
}